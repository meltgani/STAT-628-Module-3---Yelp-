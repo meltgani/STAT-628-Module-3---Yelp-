{
 "cells": [
  {
   "cell_type": "code",
   "execution_count": null,
   "id": "a7b7e0f7",
   "metadata": {},
   "outputs": [],
   "source": [
    "import pandas as pd ###\n",
    "import re"
   ]
  },
  {
   "cell_type": "code",
   "execution_count": null,
   "id": "2234444b",
   "metadata": {
    "scrolled": true
   },
   "outputs": [],
   "source": [
    "data = pd.read_csv(\"Restaurants.csv\") ###\n",
    "data.head()\n",
    "#data.attributes[0]"
   ]
  },
  {
   "cell_type": "code",
   "execution_count": null,
   "id": "dad70564",
   "metadata": {},
   "outputs": [],
   "source": [
    "data.isnull().sum() ###\n",
    "data.dropna()\n",
    "len(data)\n",
    "data.columns\n",
    "data = data.iloc[:,1:]\n",
    "data.head()"
   ]
  },
  {
   "cell_type": "code",
   "execution_count": null,
   "id": "c9488f81",
   "metadata": {},
   "outputs": [],
   "source": [
    "new_df = pd.DataFrame(data.hours.str.split(',').tolist(), index=data.business_id).stack() ###\n",
    "new_df = new_df.reset_index([0, 'business_id'])\n",
    "new_df.columns = ['business_id', 'hours']"
   ]
  },
  {
   "cell_type": "code",
   "execution_count": null,
   "id": "ce7ed246",
   "metadata": {},
   "outputs": [],
   "source": [
    "new_df[['day_of_the_week','hours']] = new_df.hours.str.split(': ',expand=True) ###\n",
    "new_df['day_of_the_week'] = new_df['day_of_the_week'].str.replace(\"'\",\" \")\n",
    "new_df['day_of_the_week'] = new_df['day_of_the_week'].str.replace(\"{\",\" \")\n",
    "new_df['day_of_the_week'] = new_df['day_of_the_week'].str.replace(\"}\",\" \")\n",
    "new_df['day_of_the_week'] = new_df['day_of_the_week'].str.replace(\" \",\" \")\n",
    "\n",
    "new_df['hours'] = new_df['hours'].str.replace(\"'\",\" \")\n",
    "new_df['hours'] = new_df['hours'].str.replace(\"{\",\" \")\n",
    "new_df['hours'] = new_df['hours'].str.replace(\"}\",\" \")\n",
    "new_df['hours'] = new_df['hours'].str.replace(\" \",\" \")\n",
    "new_df"
   ]
  }
 ],
 "metadata": {
  "kernelspec": {
   "display_name": "Python 3 (ipykernel)",
   "language": "python",
   "name": "python3"
  },
  "language_info": {
   "codemirror_mode": {
    "name": "ipython",
    "version": 3
   },
   "file_extension": ".py",
   "mimetype": "text/x-python",
   "name": "python",
   "nbconvert_exporter": "python",
   "pygments_lexer": "ipython3",
   "version": "3.9.13"
  }
 },
 "nbformat": 4,
 "nbformat_minor": 5
}
