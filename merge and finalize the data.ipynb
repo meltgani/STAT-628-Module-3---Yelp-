{
 "cells": [
  {
   "cell_type": "code",
   "execution_count": 1,
   "metadata": {},
   "outputs": [],
   "source": [
    "import pandas as pd"
   ]
  },
  {
   "cell_type": "code",
   "execution_count": 2,
   "metadata": {},
   "outputs": [],
   "source": [
    "target = pd.read_csv(\"restaurantfinal.csv\")"
   ]
  },
  {
   "cell_type": "code",
   "execution_count": 3,
   "metadata": {},
   "outputs": [
    {
     "data": {
      "text/html": [
       "<div>\n",
       "<style scoped>\n",
       "    .dataframe tbody tr th:only-of-type {\n",
       "        vertical-align: middle;\n",
       "    }\n",
       "\n",
       "    .dataframe tbody tr th {\n",
       "        vertical-align: top;\n",
       "    }\n",
       "\n",
       "    .dataframe thead th {\n",
       "        text-align: right;\n",
       "    }\n",
       "</style>\n",
       "<table border=\"1\" class=\"dataframe\">\n",
       "  <thead>\n",
       "    <tr style=\"text-align: right;\">\n",
       "      <th></th>\n",
       "      <th>Unnamed: 0</th>\n",
       "      <th>X</th>\n",
       "      <th>business_id</th>\n",
       "      <th>city</th>\n",
       "      <th>postal_code</th>\n",
       "      <th>stars</th>\n",
       "      <th>review_count</th>\n",
       "      <th>Type</th>\n",
       "      <th>hours_per_week</th>\n",
       "      <th>weight</th>\n",
       "    </tr>\n",
       "  </thead>\n",
       "  <tbody>\n",
       "    <tr>\n",
       "      <th>0</th>\n",
       "      <td>1</td>\n",
       "      <td>0</td>\n",
       "      <td>-3AooxIkg38UyUdlz5oXdw</td>\n",
       "      <td>Santa Barbara</td>\n",
       "      <td>93101</td>\n",
       "      <td>3.0</td>\n",
       "      <td>436</td>\n",
       "      <td>Italian</td>\n",
       "      <td>69.9</td>\n",
       "      <td>1.776346</td>\n",
       "    </tr>\n",
       "    <tr>\n",
       "      <th>1</th>\n",
       "      <td>2</td>\n",
       "      <td>7</td>\n",
       "      <td>-BdYhP-12elmFV7oB1iv4A</td>\n",
       "      <td>Santa Barbara</td>\n",
       "      <td>93109</td>\n",
       "      <td>5.0</td>\n",
       "      <td>41</td>\n",
       "      <td>American</td>\n",
       "      <td>45.0</td>\n",
       "      <td>0.167042</td>\n",
       "    </tr>\n",
       "    <tr>\n",
       "      <th>2</th>\n",
       "      <td>3</td>\n",
       "      <td>14</td>\n",
       "      <td>-nwNPb3G-0L95igrhkvMtw</td>\n",
       "      <td>Santa Barbara</td>\n",
       "      <td>93101</td>\n",
       "      <td>2.5</td>\n",
       "      <td>46</td>\n",
       "      <td>Fast Food</td>\n",
       "      <td>67.9</td>\n",
       "      <td>0.187413</td>\n",
       "    </tr>\n",
       "    <tr>\n",
       "      <th>3</th>\n",
       "      <td>4</td>\n",
       "      <td>21</td>\n",
       "      <td>-r6nmLB5Vi2TLQCxh0_dtw</td>\n",
       "      <td>Santa Barbara</td>\n",
       "      <td>93101</td>\n",
       "      <td>4.0</td>\n",
       "      <td>215</td>\n",
       "      <td>Deli</td>\n",
       "      <td>42.0</td>\n",
       "      <td>0.875950</td>\n",
       "    </tr>\n",
       "    <tr>\n",
       "      <th>4</th>\n",
       "      <td>5</td>\n",
       "      <td>28</td>\n",
       "      <td>04Ss49U_QKYLotcJMAH8cA</td>\n",
       "      <td>Santa Barbara</td>\n",
       "      <td>93101</td>\n",
       "      <td>4.0</td>\n",
       "      <td>97</td>\n",
       "      <td>Deli</td>\n",
       "      <td>56.0</td>\n",
       "      <td>0.395196</td>\n",
       "    </tr>\n",
       "    <tr>\n",
       "      <th>...</th>\n",
       "      <td>...</td>\n",
       "      <td>...</td>\n",
       "      <td>...</td>\n",
       "      <td>...</td>\n",
       "      <td>...</td>\n",
       "      <td>...</td>\n",
       "      <td>...</td>\n",
       "      <td>...</td>\n",
       "      <td>...</td>\n",
       "      <td>...</td>\n",
       "    </tr>\n",
       "    <tr>\n",
       "      <th>444</th>\n",
       "      <td>445</td>\n",
       "      <td>3108</td>\n",
       "      <td>z9-8KvMAlVK46De-G3sNJQ</td>\n",
       "      <td>Santa Barbara</td>\n",
       "      <td>93101</td>\n",
       "      <td>4.0</td>\n",
       "      <td>239</td>\n",
       "      <td>Healthy</td>\n",
       "      <td>84.0</td>\n",
       "      <td>0.973731</td>\n",
       "    </tr>\n",
       "    <tr>\n",
       "      <th>445</th>\n",
       "      <td>446</td>\n",
       "      <td>3115</td>\n",
       "      <td>zJpZ-uQ_F0XVgK1u98uWSg</td>\n",
       "      <td>Santa Barbara</td>\n",
       "      <td>93101</td>\n",
       "      <td>4.5</td>\n",
       "      <td>13</td>\n",
       "      <td>Mexican</td>\n",
       "      <td>28.2</td>\n",
       "      <td>0.052964</td>\n",
       "    </tr>\n",
       "    <tr>\n",
       "      <th>446</th>\n",
       "      <td>447</td>\n",
       "      <td>3122</td>\n",
       "      <td>zZrDoiQIUmiVkifJx0h_KA</td>\n",
       "      <td>Santa Barbara</td>\n",
       "      <td>93101</td>\n",
       "      <td>4.5</td>\n",
       "      <td>8</td>\n",
       "      <td>Coffee</td>\n",
       "      <td>77.0</td>\n",
       "      <td>0.032594</td>\n",
       "    </tr>\n",
       "    <tr>\n",
       "      <th>447</th>\n",
       "      <td>448</td>\n",
       "      <td>3129</td>\n",
       "      <td>zeAfmYy9b1gfUJLRBHm6vQ</td>\n",
       "      <td>Santa Barbara</td>\n",
       "      <td>93105</td>\n",
       "      <td>4.0</td>\n",
       "      <td>240</td>\n",
       "      <td>Italian</td>\n",
       "      <td>74.6</td>\n",
       "      <td>0.977805</td>\n",
       "    </tr>\n",
       "    <tr>\n",
       "      <th>448</th>\n",
       "      <td>449</td>\n",
       "      <td>3136</td>\n",
       "      <td>ziXR7sUrbKRCNeDqfjibUg</td>\n",
       "      <td>Santa Barbara</td>\n",
       "      <td>93101</td>\n",
       "      <td>4.0</td>\n",
       "      <td>262</td>\n",
       "      <td>Mexican</td>\n",
       "      <td>97.0</td>\n",
       "      <td>1.067437</td>\n",
       "    </tr>\n",
       "  </tbody>\n",
       "</table>\n",
       "<p>449 rows × 10 columns</p>\n",
       "</div>"
      ],
      "text/plain": [
       "     Unnamed: 0     X             business_id           city  postal_code  \\\n",
       "0             1     0  -3AooxIkg38UyUdlz5oXdw  Santa Barbara        93101   \n",
       "1             2     7  -BdYhP-12elmFV7oB1iv4A  Santa Barbara        93109   \n",
       "2             3    14  -nwNPb3G-0L95igrhkvMtw  Santa Barbara        93101   \n",
       "3             4    21  -r6nmLB5Vi2TLQCxh0_dtw  Santa Barbara        93101   \n",
       "4             5    28  04Ss49U_QKYLotcJMAH8cA  Santa Barbara        93101   \n",
       "..          ...   ...                     ...            ...          ...   \n",
       "444         445  3108  z9-8KvMAlVK46De-G3sNJQ  Santa Barbara        93101   \n",
       "445         446  3115  zJpZ-uQ_F0XVgK1u98uWSg  Santa Barbara        93101   \n",
       "446         447  3122  zZrDoiQIUmiVkifJx0h_KA  Santa Barbara        93101   \n",
       "447         448  3129  zeAfmYy9b1gfUJLRBHm6vQ  Santa Barbara        93105   \n",
       "448         449  3136  ziXR7sUrbKRCNeDqfjibUg  Santa Barbara        93101   \n",
       "\n",
       "     stars  review_count       Type  hours_per_week    weight  \n",
       "0      3.0           436    Italian            69.9  1.776346  \n",
       "1      5.0            41   American            45.0  0.167042  \n",
       "2      2.5            46  Fast Food            67.9  0.187413  \n",
       "3      4.0           215       Deli            42.0  0.875950  \n",
       "4      4.0            97       Deli            56.0  0.395196  \n",
       "..     ...           ...        ...             ...       ...  \n",
       "444    4.0           239    Healthy            84.0  0.973731  \n",
       "445    4.5            13    Mexican            28.2  0.052964  \n",
       "446    4.5             8     Coffee            77.0  0.032594  \n",
       "447    4.0           240    Italian            74.6  0.977805  \n",
       "448    4.0           262    Mexican            97.0  1.067437  \n",
       "\n",
       "[449 rows x 10 columns]"
      ]
     },
     "execution_count": 3,
     "metadata": {},
     "output_type": "execute_result"
    }
   ],
   "source": [
    "target"
   ]
  },
  {
   "cell_type": "code",
   "execution_count": 4,
   "metadata": {},
   "outputs": [],
   "source": [
    "Business_df = pd.read_csv(\"business_df.csv\")"
   ]
  },
  {
   "cell_type": "code",
   "execution_count": 6,
   "metadata": {},
   "outputs": [],
   "source": [
    "Business_df[\"Type\"] = target.Type"
   ]
  },
  {
   "cell_type": "code",
   "execution_count": 8,
   "metadata": {},
   "outputs": [],
   "source": [
    "Business_df[\"hours_per_week\"] = target.weight"
   ]
  },
  {
   "cell_type": "code",
   "execution_count": 11,
   "metadata": {},
   "outputs": [],
   "source": [
    "Business_df.to_csv(\"business_data_ready.csv\")"
   ]
  },
  {
   "cell_type": "code",
   "execution_count": 18,
   "metadata": {},
   "outputs": [
    {
     "data": {
      "text/plain": [
       "array(['Unnamed: 0', 'business_id', 'name', 'address', 'city', 'state',\n",
       "       'postal_code', 'latitude', 'longitude', 'stars', 'review_count',\n",
       "       'is_open', 'categories', 'hours', 'RestaurantsReservations',\n",
       "       'RestaurantsPriceRange2', 'BusinessAcceptsCreditCards',\n",
       "       'OutdoorSeating', 'BikeParking', 'RestaurantsTakeOut', 'HasTV',\n",
       "       'RestaurantsGoodForGroups', 'DogsAllowed',\n",
       "       'RestaurantsTableService', 'GoodForDancing', 'CoatCheck',\n",
       "       'GoodForKids', 'Caters', 'WheelchairAccessible', 'HappyHour',\n",
       "       'RestaurantsDelivery', 'BYOB', 'BusinessAcceptsBitcoin',\n",
       "       'DriveThru', 'ByAppointmentOnly', 'Corkage', 'Open24Hours',\n",
       "       'DietaryRestrictions', 'RestaurantsCounterService',\n",
       "       'BusinessParking_garage', 'BusinessParking_street',\n",
       "       'BusinessParking_validated', 'BusinessParking_lot',\n",
       "       'BusinessParking_valet', 'Ambience_touristy', 'Ambience_hipster',\n",
       "       'Ambience_romantic', 'Ambience_divey', 'Ambience_intimate',\n",
       "       'Ambience_trendy', 'Ambience_upscale', 'Ambience_classy',\n",
       "       'Ambience_casual', 'BestNights_monday', 'BestNights_tuesday',\n",
       "       'BestNights_friday', 'BestNights_wednesday', 'BestNights_thursday',\n",
       "       'BestNights_sunday', 'BestNights_saturday', 'GoodForMeal_dessert',\n",
       "       'GoodForMeal_latenight', 'GoodForMeal_lunch', 'GoodForMeal_dinner',\n",
       "       'GoodForMeal_brunch', 'GoodForMeal_breakfast', 'Music_dj',\n",
       "       'Music_background_music', 'Music_no_music', 'Music_jukebox',\n",
       "       'Music_live', 'Music_video', 'Music_karaoke',\n",
       "       \"AgesAllowed_u'21plus'\", \"AgesAllowed_u'allages'\",\n",
       "       \"Alcohol_'beer_and_wine'\", \"Alcohol_'full_bar'\", \"Alcohol_'none'\",\n",
       "       \"Alcohol_u'beer_and_wine'\", \"Alcohol_u'full_bar'\",\n",
       "       \"Alcohol_u'none'\", \"BYOBCorkage_'no'\", \"BYOBCorkage_'yes_corkage'\",\n",
       "       \"BYOBCorkage_'yes_free'\", \"NoiseLevel_'average'\",\n",
       "       \"NoiseLevel_'loud'\", \"NoiseLevel_'quiet'\", \"NoiseLevel_u'average'\",\n",
       "       \"NoiseLevel_u'loud'\", \"NoiseLevel_u'quiet'\",\n",
       "       \"NoiseLevel_u'very_loud'\", \"RestaurantsAttire_'casual'\",\n",
       "       \"RestaurantsAttire_u'casual'\", \"RestaurantsAttire_u'dressy'\",\n",
       "       'Smoking_None', \"Smoking_u'no'\", \"Smoking_u'outdoor'\",\n",
       "       \"WiFi_'free'\", \"WiFi_'no'\", \"WiFi_u'free'\", \"WiFi_u'no'\",\n",
       "       \"WiFi_u'paid'\"], dtype=object)"
      ]
     },
     "execution_count": 18,
     "metadata": {},
     "output_type": "execute_result"
    }
   ],
   "source": [
    "Business_df.columns.values"
   ]
  },
  {
   "cell_type": "code",
   "execution_count": 91,
   "metadata": {},
   "outputs": [],
   "source": [
    "d = {'True': 1, 'False': 0, 'None':0.5, \"0.5\":0.5,}"
   ]
  },
  {
   "cell_type": "code",
   "execution_count": 92,
   "metadata": {},
   "outputs": [],
   "source": [
    "Business_df = pd.read_csv(\"businessfinal.csv\")"
   ]
  },
  {
   "cell_type": "code",
   "execution_count": 93,
   "metadata": {},
   "outputs": [],
   "source": [
    "Business_df.drop(\"Unnamed: 0\",axis = 1,inplace=True)"
   ]
  },
  {
   "cell_type": "code",
   "execution_count": 94,
   "metadata": {},
   "outputs": [
    {
     "data": {
      "text/html": [
       "<div>\n",
       "<style scoped>\n",
       "    .dataframe tbody tr th:only-of-type {\n",
       "        vertical-align: middle;\n",
       "    }\n",
       "\n",
       "    .dataframe tbody tr th {\n",
       "        vertical-align: top;\n",
       "    }\n",
       "\n",
       "    .dataframe thead th {\n",
       "        text-align: right;\n",
       "    }\n",
       "</style>\n",
       "<table border=\"1\" class=\"dataframe\">\n",
       "  <thead>\n",
       "    <tr style=\"text-align: right;\">\n",
       "      <th></th>\n",
       "      <th>business_id</th>\n",
       "      <th>name</th>\n",
       "      <th>address</th>\n",
       "      <th>city</th>\n",
       "      <th>state</th>\n",
       "      <th>postal_code</th>\n",
       "      <th>latitude</th>\n",
       "      <th>longitude</th>\n",
       "      <th>stars</th>\n",
       "      <th>review_count</th>\n",
       "      <th>...</th>\n",
       "      <th>Smoking_u'no'</th>\n",
       "      <th>Smoking_u'outdoor'</th>\n",
       "      <th>WiFi_'free'</th>\n",
       "      <th>WiFi_'no'</th>\n",
       "      <th>WiFi_u'free'</th>\n",
       "      <th>WiFi_u'no'</th>\n",
       "      <th>WiFi_u'paid'</th>\n",
       "      <th>Type</th>\n",
       "      <th>hours_per_week_y</th>\n",
       "      <th>weight</th>\n",
       "    </tr>\n",
       "  </thead>\n",
       "  <tbody>\n",
       "    <tr>\n",
       "      <th>0</th>\n",
       "      <td>-3AooxIkg38UyUdlz5oXdw</td>\n",
       "      <td>Chase Restaurant</td>\n",
       "      <td>1012 State St</td>\n",
       "      <td>Santa Barbara</td>\n",
       "      <td>CA</td>\n",
       "      <td>93101</td>\n",
       "      <td>34.421931</td>\n",
       "      <td>-119.702185</td>\n",
       "      <td>3.0</td>\n",
       "      <td>436</td>\n",
       "      <td>...</td>\n",
       "      <td>0</td>\n",
       "      <td>0</td>\n",
       "      <td>0</td>\n",
       "      <td>0</td>\n",
       "      <td>1</td>\n",
       "      <td>0</td>\n",
       "      <td>0</td>\n",
       "      <td>Italian</td>\n",
       "      <td>69.9</td>\n",
       "      <td>1.776346</td>\n",
       "    </tr>\n",
       "    <tr>\n",
       "      <th>1</th>\n",
       "      <td>-BdYhP-12elmFV7oB1iv4A</td>\n",
       "      <td>Corner Tap Room</td>\n",
       "      <td>1905 Cliff Dr</td>\n",
       "      <td>Santa Barbara</td>\n",
       "      <td>CA</td>\n",
       "      <td>93109</td>\n",
       "      <td>34.401382</td>\n",
       "      <td>-119.722472</td>\n",
       "      <td>5.0</td>\n",
       "      <td>41</td>\n",
       "      <td>...</td>\n",
       "      <td>1</td>\n",
       "      <td>0</td>\n",
       "      <td>0</td>\n",
       "      <td>0</td>\n",
       "      <td>0</td>\n",
       "      <td>0</td>\n",
       "      <td>0</td>\n",
       "      <td>American</td>\n",
       "      <td>45.0</td>\n",
       "      <td>0.167042</td>\n",
       "    </tr>\n",
       "    <tr>\n",
       "      <th>2</th>\n",
       "      <td>-nwNPb3G-0L95igrhkvMtw</td>\n",
       "      <td>Panda Express</td>\n",
       "      <td>605 Paseo Nuevo</td>\n",
       "      <td>Santa Barbara</td>\n",
       "      <td>CA</td>\n",
       "      <td>93101</td>\n",
       "      <td>34.418722</td>\n",
       "      <td>-119.700166</td>\n",
       "      <td>2.5</td>\n",
       "      <td>46</td>\n",
       "      <td>...</td>\n",
       "      <td>0</td>\n",
       "      <td>0</td>\n",
       "      <td>0</td>\n",
       "      <td>1</td>\n",
       "      <td>0</td>\n",
       "      <td>0</td>\n",
       "      <td>0</td>\n",
       "      <td>Fast Food</td>\n",
       "      <td>67.9</td>\n",
       "      <td>0.187413</td>\n",
       "    </tr>\n",
       "    <tr>\n",
       "      <th>3</th>\n",
       "      <td>-r6nmLB5Vi2TLQCxh0_dtw</td>\n",
       "      <td>South Coast Deli- Carrillo</td>\n",
       "      <td>10 E Carrillo St</td>\n",
       "      <td>Santa Barbara</td>\n",
       "      <td>CA</td>\n",
       "      <td>93101</td>\n",
       "      <td>34.421702</td>\n",
       "      <td>-119.701330</td>\n",
       "      <td>4.0</td>\n",
       "      <td>215</td>\n",
       "      <td>...</td>\n",
       "      <td>0</td>\n",
       "      <td>0</td>\n",
       "      <td>1</td>\n",
       "      <td>0</td>\n",
       "      <td>0</td>\n",
       "      <td>0</td>\n",
       "      <td>0</td>\n",
       "      <td>Deli</td>\n",
       "      <td>42.0</td>\n",
       "      <td>0.875950</td>\n",
       "    </tr>\n",
       "    <tr>\n",
       "      <th>4</th>\n",
       "      <td>04Ss49U_QKYLotcJMAH8cA</td>\n",
       "      <td>Ike’s Love &amp; Sandwiches</td>\n",
       "      <td>1936 State St</td>\n",
       "      <td>Santa Barbara</td>\n",
       "      <td>CA</td>\n",
       "      <td>93101</td>\n",
       "      <td>34.430741</td>\n",
       "      <td>-119.714266</td>\n",
       "      <td>4.0</td>\n",
       "      <td>97</td>\n",
       "      <td>...</td>\n",
       "      <td>0</td>\n",
       "      <td>0</td>\n",
       "      <td>0</td>\n",
       "      <td>0</td>\n",
       "      <td>0</td>\n",
       "      <td>0</td>\n",
       "      <td>0</td>\n",
       "      <td>Deli</td>\n",
       "      <td>56.0</td>\n",
       "      <td>0.395196</td>\n",
       "    </tr>\n",
       "    <tr>\n",
       "      <th>...</th>\n",
       "      <td>...</td>\n",
       "      <td>...</td>\n",
       "      <td>...</td>\n",
       "      <td>...</td>\n",
       "      <td>...</td>\n",
       "      <td>...</td>\n",
       "      <td>...</td>\n",
       "      <td>...</td>\n",
       "      <td>...</td>\n",
       "      <td>...</td>\n",
       "      <td>...</td>\n",
       "      <td>...</td>\n",
       "      <td>...</td>\n",
       "      <td>...</td>\n",
       "      <td>...</td>\n",
       "      <td>...</td>\n",
       "      <td>...</td>\n",
       "      <td>...</td>\n",
       "      <td>...</td>\n",
       "      <td>...</td>\n",
       "      <td>...</td>\n",
       "    </tr>\n",
       "    <tr>\n",
       "      <th>444</th>\n",
       "      <td>z9-8KvMAlVK46De-G3sNJQ</td>\n",
       "      <td>Blenders In The Grass</td>\n",
       "      <td>720 State St</td>\n",
       "      <td>Santa Barbara</td>\n",
       "      <td>CA</td>\n",
       "      <td>93101</td>\n",
       "      <td>34.419311</td>\n",
       "      <td>-119.698519</td>\n",
       "      <td>4.0</td>\n",
       "      <td>239</td>\n",
       "      <td>...</td>\n",
       "      <td>0</td>\n",
       "      <td>0</td>\n",
       "      <td>0</td>\n",
       "      <td>0</td>\n",
       "      <td>0</td>\n",
       "      <td>1</td>\n",
       "      <td>0</td>\n",
       "      <td>Healthy</td>\n",
       "      <td>84.0</td>\n",
       "      <td>0.973731</td>\n",
       "    </tr>\n",
       "    <tr>\n",
       "      <th>445</th>\n",
       "      <td>zJpZ-uQ_F0XVgK1u98uWSg</td>\n",
       "      <td>Gloria's Gourmet Kitchen</td>\n",
       "      <td>631 W Carrillo St</td>\n",
       "      <td>Santa Barbara</td>\n",
       "      <td>CA</td>\n",
       "      <td>93101</td>\n",
       "      <td>34.414603</td>\n",
       "      <td>-119.710093</td>\n",
       "      <td>4.5</td>\n",
       "      <td>13</td>\n",
       "      <td>...</td>\n",
       "      <td>0</td>\n",
       "      <td>0</td>\n",
       "      <td>0</td>\n",
       "      <td>0</td>\n",
       "      <td>0</td>\n",
       "      <td>0</td>\n",
       "      <td>0</td>\n",
       "      <td>Mexican</td>\n",
       "      <td>28.2</td>\n",
       "      <td>0.052964</td>\n",
       "    </tr>\n",
       "    <tr>\n",
       "      <th>446</th>\n",
       "      <td>zZrDoiQIUmiVkifJx0h_KA</td>\n",
       "      <td>Old Town Coffee Downtown</td>\n",
       "      <td>1131 State St, Inside Mosaic Locale</td>\n",
       "      <td>Santa Barbara</td>\n",
       "      <td>CA</td>\n",
       "      <td>93101</td>\n",
       "      <td>34.423056</td>\n",
       "      <td>-119.704515</td>\n",
       "      <td>4.5</td>\n",
       "      <td>8</td>\n",
       "      <td>...</td>\n",
       "      <td>0</td>\n",
       "      <td>0</td>\n",
       "      <td>0</td>\n",
       "      <td>0</td>\n",
       "      <td>1</td>\n",
       "      <td>0</td>\n",
       "      <td>0</td>\n",
       "      <td>Coffee</td>\n",
       "      <td>77.0</td>\n",
       "      <td>0.032594</td>\n",
       "    </tr>\n",
       "    <tr>\n",
       "      <th>447</th>\n",
       "      <td>zeAfmYy9b1gfUJLRBHm6vQ</td>\n",
       "      <td>Presto Pasta</td>\n",
       "      <td>2830 De La Vina St</td>\n",
       "      <td>Santa Barbara</td>\n",
       "      <td>CA</td>\n",
       "      <td>93105</td>\n",
       "      <td>34.437063</td>\n",
       "      <td>-119.725682</td>\n",
       "      <td>4.0</td>\n",
       "      <td>240</td>\n",
       "      <td>...</td>\n",
       "      <td>0</td>\n",
       "      <td>0</td>\n",
       "      <td>0</td>\n",
       "      <td>0</td>\n",
       "      <td>0</td>\n",
       "      <td>1</td>\n",
       "      <td>0</td>\n",
       "      <td>Italian</td>\n",
       "      <td>74.6</td>\n",
       "      <td>0.977805</td>\n",
       "    </tr>\n",
       "    <tr>\n",
       "      <th>448</th>\n",
       "      <td>ziXR7sUrbKRCNeDqfjibUg</td>\n",
       "      <td>Rudy's Restaurant No 1</td>\n",
       "      <td>305 W Montecito St</td>\n",
       "      <td>Santa Barbara</td>\n",
       "      <td>CA</td>\n",
       "      <td>93101</td>\n",
       "      <td>34.411314</td>\n",
       "      <td>-119.696292</td>\n",
       "      <td>4.0</td>\n",
       "      <td>262</td>\n",
       "      <td>...</td>\n",
       "      <td>0</td>\n",
       "      <td>0</td>\n",
       "      <td>0</td>\n",
       "      <td>0</td>\n",
       "      <td>0</td>\n",
       "      <td>1</td>\n",
       "      <td>0</td>\n",
       "      <td>Mexican</td>\n",
       "      <td>97.0</td>\n",
       "      <td>1.067437</td>\n",
       "    </tr>\n",
       "  </tbody>\n",
       "</table>\n",
       "<p>449 rows × 104 columns</p>\n",
       "</div>"
      ],
      "text/plain": [
       "                business_id                        name  \\\n",
       "0    -3AooxIkg38UyUdlz5oXdw            Chase Restaurant   \n",
       "1    -BdYhP-12elmFV7oB1iv4A             Corner Tap Room   \n",
       "2    -nwNPb3G-0L95igrhkvMtw               Panda Express   \n",
       "3    -r6nmLB5Vi2TLQCxh0_dtw  South Coast Deli- Carrillo   \n",
       "4    04Ss49U_QKYLotcJMAH8cA     Ike’s Love & Sandwiches   \n",
       "..                      ...                         ...   \n",
       "444  z9-8KvMAlVK46De-G3sNJQ       Blenders In The Grass   \n",
       "445  zJpZ-uQ_F0XVgK1u98uWSg    Gloria's Gourmet Kitchen   \n",
       "446  zZrDoiQIUmiVkifJx0h_KA    Old Town Coffee Downtown   \n",
       "447  zeAfmYy9b1gfUJLRBHm6vQ                Presto Pasta   \n",
       "448  ziXR7sUrbKRCNeDqfjibUg      Rudy's Restaurant No 1   \n",
       "\n",
       "                                 address           city state  postal_code  \\\n",
       "0                          1012 State St  Santa Barbara    CA        93101   \n",
       "1                          1905 Cliff Dr  Santa Barbara    CA        93109   \n",
       "2                        605 Paseo Nuevo  Santa Barbara    CA        93101   \n",
       "3                       10 E Carrillo St  Santa Barbara    CA        93101   \n",
       "4                          1936 State St  Santa Barbara    CA        93101   \n",
       "..                                   ...            ...   ...          ...   \n",
       "444                         720 State St  Santa Barbara    CA        93101   \n",
       "445                    631 W Carrillo St  Santa Barbara    CA        93101   \n",
       "446  1131 State St, Inside Mosaic Locale  Santa Barbara    CA        93101   \n",
       "447                   2830 De La Vina St  Santa Barbara    CA        93105   \n",
       "448                   305 W Montecito St  Santa Barbara    CA        93101   \n",
       "\n",
       "      latitude   longitude  stars  review_count  ...  Smoking_u'no'  \\\n",
       "0    34.421931 -119.702185    3.0           436  ...              0   \n",
       "1    34.401382 -119.722472    5.0            41  ...              1   \n",
       "2    34.418722 -119.700166    2.5            46  ...              0   \n",
       "3    34.421702 -119.701330    4.0           215  ...              0   \n",
       "4    34.430741 -119.714266    4.0            97  ...              0   \n",
       "..         ...         ...    ...           ...  ...            ...   \n",
       "444  34.419311 -119.698519    4.0           239  ...              0   \n",
       "445  34.414603 -119.710093    4.5            13  ...              0   \n",
       "446  34.423056 -119.704515    4.5             8  ...              0   \n",
       "447  34.437063 -119.725682    4.0           240  ...              0   \n",
       "448  34.411314 -119.696292    4.0           262  ...              0   \n",
       "\n",
       "    Smoking_u'outdoor' WiFi_'free' WiFi_'no'  WiFi_u'free' WiFi_u'no'  \\\n",
       "0                    0           0         0             1          0   \n",
       "1                    0           0         0             0          0   \n",
       "2                    0           0         1             0          0   \n",
       "3                    0           1         0             0          0   \n",
       "4                    0           0         0             0          0   \n",
       "..                 ...         ...       ...           ...        ...   \n",
       "444                  0           0         0             0          1   \n",
       "445                  0           0         0             0          0   \n",
       "446                  0           0         0             1          0   \n",
       "447                  0           0         0             0          1   \n",
       "448                  0           0         0             0          1   \n",
       "\n",
       "    WiFi_u'paid'       Type hours_per_week_y    weight  \n",
       "0              0    Italian             69.9  1.776346  \n",
       "1              0   American             45.0  0.167042  \n",
       "2              0  Fast Food             67.9  0.187413  \n",
       "3              0       Deli             42.0  0.875950  \n",
       "4              0       Deli             56.0  0.395196  \n",
       "..           ...        ...              ...       ...  \n",
       "444            0    Healthy             84.0  0.973731  \n",
       "445            0    Mexican             28.2  0.052964  \n",
       "446            0     Coffee             77.0  0.032594  \n",
       "447            0    Italian             74.6  0.977805  \n",
       "448            0    Mexican             97.0  1.067437  \n",
       "\n",
       "[449 rows x 104 columns]"
      ]
     },
     "execution_count": 94,
     "metadata": {},
     "output_type": "execute_result"
    }
   ],
   "source": [
    "Business_df"
   ]
  },
  {
   "cell_type": "code",
   "execution_count": 95,
   "metadata": {},
   "outputs": [
    {
     "name": "stdout",
     "output_type": "stream",
     "text": [
      "BusinessAcceptsCreditCards\n",
      "OutdoorSeating\n",
      "BikeParking\n",
      "RestaurantsTakeOut\n",
      "HasTV\n",
      "RestaurantsGoodForGroups\n",
      "DogsAllowed\n",
      "RestaurantsTableService\n",
      "GoodForDancing\n",
      "CoatCheck\n",
      "GoodForKids\n",
      "Caters\n",
      "WheelchairAccessible\n",
      "HappyHour\n",
      "RestaurantsDelivery\n",
      "BYOB\n",
      "BusinessAcceptsBitcoin\n",
      "DriveThru\n",
      "ByAppointmentOnly\n",
      "Corkage\n",
      "Open24Hours\n",
      "DietaryRestrictions\n"
     ]
    }
   ],
   "source": [
    "for i in Business_df.columns[15:37]:\n",
    "    Business_df[i]=Business_df[i].map(d)\n",
    "    print(i)"
   ]
  },
  {
   "cell_type": "code",
   "execution_count": 96,
   "metadata": {},
   "outputs": [
    {
     "data": {
      "text/plain": [
       "0.5"
      ]
     },
     "execution_count": 96,
     "metadata": {},
     "output_type": "execute_result"
    }
   ],
   "source": [
    "Business_df.BusinessAcceptsCreditCards[446]"
   ]
  },
  {
   "cell_type": "code",
   "execution_count": 98,
   "metadata": {},
   "outputs": [],
   "source": [
    "Business_df[\"RestaurantsReservations\"]=Business_df[\"RestaurantsReservations\"].map(d)"
   ]
  },
  {
   "cell_type": "code",
   "execution_count": 99,
   "metadata": {},
   "outputs": [],
   "source": [
    "Business_df.to_csv(\"Final_Business_0_1.csv\")"
   ]
  },
  {
   "cell_type": "code",
   "execution_count": 2,
   "metadata": {},
   "outputs": [],
   "source": [
    "import pandas as pd\n",
    "\n"
   ]
  },
  {
   "cell_type": "code",
   "execution_count": 57,
   "metadata": {},
   "outputs": [],
   "source": [
    "Business_df = pd.read_csv(\"Final_Business_0_1.csv\")"
   ]
  },
  {
   "cell_type": "code",
   "execution_count": 5,
   "metadata": {},
   "outputs": [],
   "source": [
    "std = pd.read_csv(\"std_stars.csv\")"
   ]
  },
  {
   "cell_type": "code",
   "execution_count": 6,
   "metadata": {},
   "outputs": [
    {
     "data": {
      "text/html": [
       "<div>\n",
       "<style scoped>\n",
       "    .dataframe tbody tr th:only-of-type {\n",
       "        vertical-align: middle;\n",
       "    }\n",
       "\n",
       "    .dataframe tbody tr th {\n",
       "        vertical-align: top;\n",
       "    }\n",
       "\n",
       "    .dataframe thead th {\n",
       "        text-align: right;\n",
       "    }\n",
       "</style>\n",
       "<table border=\"1\" class=\"dataframe\">\n",
       "  <thead>\n",
       "    <tr style=\"text-align: right;\">\n",
       "      <th></th>\n",
       "      <th>Unnamed: 0</th>\n",
       "      <th>business_id</th>\n",
       "      <th>std_stars</th>\n",
       "    </tr>\n",
       "  </thead>\n",
       "  <tbody>\n",
       "    <tr>\n",
       "      <th>0</th>\n",
       "      <td>0</td>\n",
       "      <td>-3AooxIkg38UyUdlz5oXdw</td>\n",
       "      <td>2.923013</td>\n",
       "    </tr>\n",
       "    <tr>\n",
       "      <th>1</th>\n",
       "      <td>1</td>\n",
       "      <td>-BdYhP-12elmFV7oB1iv4A</td>\n",
       "      <td>5.000000</td>\n",
       "    </tr>\n",
       "    <tr>\n",
       "      <th>2</th>\n",
       "      <td>2</td>\n",
       "      <td>-nwNPb3G-0L95igrhkvMtw</td>\n",
       "      <td>2.275395</td>\n",
       "    </tr>\n",
       "    <tr>\n",
       "      <th>3</th>\n",
       "      <td>3</td>\n",
       "      <td>-r6nmLB5Vi2TLQCxh0_dtw</td>\n",
       "      <td>3.915131</td>\n",
       "    </tr>\n",
       "    <tr>\n",
       "      <th>4</th>\n",
       "      <td>4</td>\n",
       "      <td>04Ss49U_QKYLotcJMAH8cA</td>\n",
       "      <td>4.145304</td>\n",
       "    </tr>\n",
       "    <tr>\n",
       "      <th>...</th>\n",
       "      <td>...</td>\n",
       "      <td>...</td>\n",
       "      <td>...</td>\n",
       "    </tr>\n",
       "    <tr>\n",
       "      <th>444</th>\n",
       "      <td>444</td>\n",
       "      <td>z9-8KvMAlVK46De-G3sNJQ</td>\n",
       "      <td>3.927042</td>\n",
       "    </tr>\n",
       "    <tr>\n",
       "      <th>445</th>\n",
       "      <td>445</td>\n",
       "      <td>zJpZ-uQ_F0XVgK1u98uWSg</td>\n",
       "      <td>4.916617</td>\n",
       "    </tr>\n",
       "    <tr>\n",
       "      <th>446</th>\n",
       "      <td>446</td>\n",
       "      <td>zZrDoiQIUmiVkifJx0h_KA</td>\n",
       "      <td>4.919928</td>\n",
       "    </tr>\n",
       "    <tr>\n",
       "      <th>447</th>\n",
       "      <td>447</td>\n",
       "      <td>zeAfmYy9b1gfUJLRBHm6vQ</td>\n",
       "      <td>4.087946</td>\n",
       "    </tr>\n",
       "    <tr>\n",
       "      <th>448</th>\n",
       "      <td>448</td>\n",
       "      <td>ziXR7sUrbKRCNeDqfjibUg</td>\n",
       "      <td>4.087958</td>\n",
       "    </tr>\n",
       "  </tbody>\n",
       "</table>\n",
       "<p>449 rows × 3 columns</p>\n",
       "</div>"
      ],
      "text/plain": [
       "     Unnamed: 0             business_id  std_stars\n",
       "0             0  -3AooxIkg38UyUdlz5oXdw   2.923013\n",
       "1             1  -BdYhP-12elmFV7oB1iv4A   5.000000\n",
       "2             2  -nwNPb3G-0L95igrhkvMtw   2.275395\n",
       "3             3  -r6nmLB5Vi2TLQCxh0_dtw   3.915131\n",
       "4             4  04Ss49U_QKYLotcJMAH8cA   4.145304\n",
       "..          ...                     ...        ...\n",
       "444         444  z9-8KvMAlVK46De-G3sNJQ   3.927042\n",
       "445         445  zJpZ-uQ_F0XVgK1u98uWSg   4.916617\n",
       "446         446  zZrDoiQIUmiVkifJx0h_KA   4.919928\n",
       "447         447  zeAfmYy9b1gfUJLRBHm6vQ   4.087946\n",
       "448         448  ziXR7sUrbKRCNeDqfjibUg   4.087958\n",
       "\n",
       "[449 rows x 3 columns]"
      ]
     },
     "execution_count": 6,
     "metadata": {},
     "output_type": "execute_result"
    }
   ],
   "source": [
    "std"
   ]
  },
  {
   "cell_type": "code",
   "execution_count": 7,
   "metadata": {},
   "outputs": [],
   "source": [
    "Business_df[\"std_stars\"] = std[\"std_stars\"]"
   ]
  },
  {
   "cell_type": "code",
   "execution_count": 58,
   "metadata": {},
   "outputs": [],
   "source": [
    "Business_df.drop(\"Unnamed: 0\",axis = 1,inplace = True)"
   ]
  },
  {
   "cell_type": "code",
   "execution_count": 96,
   "metadata": {},
   "outputs": [],
   "source": [
    "Business_df.to_csv(\"Final_Business_0_1.csv\")"
   ]
  },
  {
   "cell_type": "code",
   "execution_count": 64,
   "metadata": {},
   "outputs": [],
   "source": [
    "# 1 <-  <1.5\n",
    "# 1.5 <- <1.75\n",
    "# 2 <- >1.75<2.25\n",
    "# 2.5 <- >2.25<2.75\n",
    "# 3 <- >2.75 <3.25\n",
    "# 3.5 <- >3.25 <3.75\n",
    "# 4 <- >3.75 <4.25\n",
    "# 4.5 <- >4.25 <4.75\n",
    "# 5 <- >4.75\n",
    "\n"
   ]
  },
  {
   "cell_type": "code",
   "execution_count": null,
   "metadata": {},
   "outputs": [],
   "source": [
    "Business_df.loc[(Business_df.std_stars<=1.75),\"std_stars\"]=1.5"
   ]
  },
  {
   "cell_type": "code",
   "execution_count": 66,
   "metadata": {},
   "outputs": [],
   "source": [
    "Business_df.loc[(Business_df.std_stars>1.75) & (Business_df.std_stars<2.25),\"std_stars\"]=2  #2"
   ]
  },
  {
   "cell_type": "code",
   "execution_count": 68,
   "metadata": {},
   "outputs": [],
   "source": [
    "Business_df.loc[(Business_df[\"std_stars\"]>2.25) & (Business_df[\"std_stars\"]<2.75),\"std_stars\"] = 2.5  #2.5"
   ]
  },
  {
   "cell_type": "code",
   "execution_count": 69,
   "metadata": {},
   "outputs": [],
   "source": [
    "Business_df.loc[(Business_df[\"std_stars\"]>2.75) & (Business_df[\"std_stars\"]<3.25),\"std_stars\"] = 3 #3   2.75 <3.25"
   ]
  },
  {
   "cell_type": "code",
   "execution_count": 71,
   "metadata": {},
   "outputs": [],
   "source": [
    "Business_df.loc[(Business_df[\"std_stars\"]>3.25) & (Business_df[\"std_stars\"]<3.75),\"std_stars\"] = 3.5 # 3.5 <- >3.25 <3.75"
   ]
  },
  {
   "cell_type": "code",
   "execution_count": 72,
   "metadata": {},
   "outputs": [],
   "source": [
    "Business_df.loc[(Business_df[\"std_stars\"]>3.75) & (Business_df[\"std_stars\"]<4.25),\"std_stars\"] = 4 # 4 <- >3.75 <4.25"
   ]
  },
  {
   "cell_type": "code",
   "execution_count": 73,
   "metadata": {},
   "outputs": [],
   "source": [
    "Business_df.loc[(Business_df[\"std_stars\"]>4.25) & (Business_df[\"std_stars\"]<4.75),\"std_stars\"] = 4.5  # 4.5 <- >4.25 <4.75"
   ]
  },
  {
   "cell_type": "code",
   "execution_count": 74,
   "metadata": {},
   "outputs": [],
   "source": [
    "Business_df.loc[(Business_df[\"std_stars\"]>4.75),\"std_stars\"] = 5  # 5 <- >4.75"
   ]
  },
  {
   "cell_type": "code",
   "execution_count": 85,
   "metadata": {},
   "outputs": [
    {
     "data": {
      "image/png": "[encoded data removed]",
      "text/plain": [
       "<Figure size 432x288 with 1 Axes>"
      ]
     },
     "metadata": {
      "needs_background": "light"
     },
     "output_type": "display_data"
    }
   ],
   "source": [
    "_=Business_df.std_stars.hist(bins = 8)"
   ]
  },
  {
   "cell_type": "code",
   "execution_count": 92,
   "metadata": {},
   "outputs": [
    {
     "data": {
      "text/plain": [
       "-0.8774782623680206"
      ]
     },
     "execution_count": 92,
     "metadata": {},
     "output_type": "execute_result"
    }
   ],
   "source": [
    "Business_df.std_stars.skew()"
   ]
  },
  {
   "cell_type": "code",
   "execution_count": 86,
   "metadata": {},
   "outputs": [
    {
     "data": {
      "image/png": "[encoded data removed]",
      "text/plain": [
       "<Figure size 432x288 with 1 Axes>"
      ]
     },
     "metadata": {
      "needs_background": "light"
     },
     "output_type": "display_data"
    }
   ],
   "source": [
    "_=Business_df.stars.hist(bins = 8)"
   ]
  },
  {
   "cell_type": "code",
   "execution_count": 87,
   "metadata": {},
   "outputs": [],
   "source": [
    "Business_df1 = pd.read_csv(\"Final_Business_0_1.csv\")"
   ]
  },
  {
   "cell_type": "code",
   "execution_count": 89,
   "metadata": {},
   "outputs": [
    {
     "data": {
      "text/plain": [
       "<AxesSubplot:>"
      ]
     },
     "execution_count": 89,
     "metadata": {},
     "output_type": "execute_result"
    },
    {
     "data": {
      "image/png": "[encoded data removed]",
      "text/plain": [
       "<Figure size 432x288 with 1 Axes>"
      ]
     },
     "metadata": {
      "needs_background": "light"
     },
     "output_type": "display_data"
    }
   ],
   "source": [
    "Business_df1.std_stars.hist(bins = 8)"
   ]
  },
  {
   "cell_type": "code",
   "execution_count": 91,
   "metadata": {},
   "outputs": [
    {
     "data": {
      "text/plain": [
       "-0.8426344633432156"
      ]
     },
     "execution_count": 91,
     "metadata": {},
     "output_type": "execute_result"
    }
   ],
   "source": [
    "Business_df1.std_stars.skew()"
   ]
  },
  {
   "cell_type": "code",
   "execution_count": 95,
   "metadata": {},
   "outputs": [
    {
     "data": {
      "text/plain": [
       "-0.8748689540820493"
      ]
     },
     "execution_count": 95,
     "metadata": {},
     "output_type": "execute_result"
    }
   ],
   "source": [
    "Business_df1.stars.skew(axis=0)"
   ]
  },
  {
   "cell_type": "code",
   "execution_count": null,
   "metadata": {},
   "outputs": [],
   "source": []
  }
 ],
 "metadata": {
  "kernelspec": {
   "display_name": "Python 3",
   "language": "python",
   "name": "python3"
  },
  "language_info": {
   "codemirror_mode": {
    "name": "ipython",
    "version": 3
   },
   "file_extension": ".py",
   "mimetype": "text/x-python",
   "name": "python",
   "nbconvert_exporter": "python",
   "pygments_lexer": "ipython3",
   "version": "3.7.4"
  }
 },
 "nbformat": 4,
 "nbformat_minor": 2
}
